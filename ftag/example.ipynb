{
 "cells": [
  {
   "cell_type": "code",
   "execution_count": 17,
   "metadata": {},
   "outputs": [
    {
     "name": "stdout",
     "output_type": "stream",
     "text": [
      "The autoreload extension is already loaded. To reload it, use:\n",
      "  %reload_ext autoreload\n"
     ]
    }
   ],
   "source": [
    "%load_ext autoreload\n",
    "%autoreload 2"
   ]
  },
  {
   "attachments": {},
   "cell_type": "markdown",
   "metadata": {},
   "source": [
    "# Example Usage\n",
    "\n",
    "This notebooks demonstrates how to use this package.\n",
    "The main features are:\n",
    "\n",
    "- A `Cuts` class that can be used to select jets.\n",
    "- A set of `Flavours` defining common jet flavours.\n",
    "- An `H5Reader` class allowing for batched reading of jets across multiple files.\n",
    "- An `H5Writer` class allowing for batched writing of jets."
   ]
  },
  {
   "attachments": {},
   "cell_type": "markdown",
   "metadata": {},
   "source": [
    "We can start by getting some dummy data to work with."
   ]
  },
  {
   "cell_type": "code",
   "execution_count": 18,
   "metadata": {},
   "outputs": [],
   "source": [
    "from ftag import get_mock_file\n",
    "\n",
    "fname, f = get_mock_file()\n",
    "jets = f[\"jets\"]"
   ]
  },
  {
   "attachments": {},
   "cell_type": "markdown",
   "metadata": {},
   "source": [
    "### Cuts\n",
    "\n",
    "The `Cuts` class provides an interface for applying selections to structured nummpy arrays loaded from HDF5 files.\n",
    "To take a look, first import the `Cuts`:\n"
   ]
  },
  {
   "cell_type": "code",
   "execution_count": 19,
   "metadata": {},
   "outputs": [],
   "source": [
    "from ftag import Cuts"
   ]
  },
  {
   "attachments": {},
   "cell_type": "markdown",
   "metadata": {},
   "source": [
    "Instances of `Cuts` can be defined from lists of strings or tuples of strings and values. For example"
   ]
  },
  {
   "cell_type": "code",
   "execution_count": 20,
   "metadata": {},
   "outputs": [],
   "source": [
    "kinematic_cuts = Cuts.from_list([\"pt > 20e3\", \"abs_eta < 2.5\"])\n",
    "flavour_cuts = Cuts.from_list([(\"HadronConeExclTruthLabelID\", \"==\", 5)])"
   ]
  },
  {
   "attachments": {},
   "cell_type": "markdown",
   "metadata": {},
   "source": [
    "It's easy to combine cuts"
   ]
  },
  {
   "cell_type": "code",
   "execution_count": 21,
   "metadata": {},
   "outputs": [],
   "source": [
    "combined_cuts = kinematic_cuts + flavour_cuts"
   ]
  },
  {
   "attachments": {},
   "cell_type": "markdown",
   "metadata": {},
   "source": [
    "And then apply them to a a structured array with "
   ]
  },
  {
   "cell_type": "code",
   "execution_count": 22,
   "metadata": {},
   "outputs": [],
   "source": [
    "idx, selected_jets = combined_cuts(jets)"
   ]
  },
  {
   "attachments": {},
   "cell_type": "markdown",
   "metadata": {},
   "source": [
    "Both the selected indices and the selected jets are returned. The indices can be used to reapply the same selection to another array (e.g. tracks). The return values `idx` and `values` can also be accessed by name:"
   ]
  },
  {
   "cell_type": "code",
   "execution_count": 23,
   "metadata": {},
   "outputs": [],
   "source": [
    "idx = combined_cuts(jets).idx\n",
    "selected_jets = combined_cuts(jets).values"
   ]
  },
  {
   "attachments": {},
   "cell_type": "markdown",
   "metadata": {},
   "source": [
    "### Flavours\n",
    "\n",
    "A list of flavours is provided."
   ]
  },
  {
   "cell_type": "code",
   "execution_count": 24,
   "metadata": {},
   "outputs": [
    {
     "data": {
      "text/plain": [
       "Flavour(name='bjets', label='$b$-jets', cuts=['HadronConeExclTruthLabelID == 5'], colour='tab:blue', category='single-btag')"
      ]
     },
     "execution_count": 24,
     "metadata": {},
     "output_type": "execute_result"
    }
   ],
   "source": [
    "from ftag import Flavours\n",
    "\n",
    "Flavours.bjets"
   ]
  },
  {
   "attachments": {},
   "cell_type": "markdown",
   "metadata": {},
   "source": [
    "`dict` like access is also supported:"
   ]
  },
  {
   "cell_type": "code",
   "execution_count": 25,
   "metadata": {},
   "outputs": [
    {
     "data": {
      "text/plain": [
       "Flavour(name='qcd', label='QCD', cuts=['R10TruthLabel_R22v1 == 10'], colour='#38761D', category='xbb')"
      ]
     },
     "execution_count": 25,
     "metadata": {},
     "output_type": "execute_result"
    }
   ],
   "source": [
    "Flavours[\"qcd\"]"
   ]
  },
  {
   "attachments": {},
   "cell_type": "markdown",
   "metadata": {},
   "source": [
    "As you can see from the output, each flavour has a `name`, a `label` and `colour` (used for plotting), and a `Cuts` instance, which can be used to select jets of the given flavour.\n",
    "For example:"
   ]
  },
  {
   "cell_type": "code",
   "execution_count": 26,
   "metadata": {},
   "outputs": [],
   "source": [
    "bjets = Flavours.bjets.cuts(jets).values"
   ]
  },
  {
   "attachments": {},
   "cell_type": "markdown",
   "metadata": {},
   "source": [
    "Each flavour is also assigned to a category, which can be used to group flavours together. For example:"
   ]
  },
  {
   "cell_type": "code",
   "execution_count": 27,
   "metadata": {},
   "outputs": [
    {
     "data": {
      "text/plain": [
       "['single-btag', 'single-btag-extended', 'xbb', 'partonic', 'lepton-decay']"
      ]
     },
     "execution_count": 27,
     "metadata": {},
     "output_type": "execute_result"
    }
   ],
   "source": [
    "Flavours.categories"
   ]
  },
  {
   "cell_type": "code",
   "execution_count": 28,
   "metadata": {},
   "outputs": [
    {
     "data": {
      "text/plain": [
       "FlavourContainer(hbb, hcc, top, qcd)"
      ]
     },
     "execution_count": 28,
     "metadata": {},
     "output_type": "execute_result"
    }
   ],
   "source": [
    "Flavours.by_category('xbb')"
   ]
  },
  {
   "attachments": {},
   "cell_type": "markdown",
   "metadata": {},
   "source": [
    "Probability names are also accessible using `.px`:"
   ]
  },
  {
   "cell_type": "code",
   "execution_count": 29,
   "metadata": {},
   "outputs": [
    {
     "data": {
      "text/plain": [
       "['pb', 'pc', 'pu', 'ptau']"
      ]
     },
     "execution_count": 29,
     "metadata": {},
     "output_type": "execute_result"
    }
   ],
   "source": [
    "[f.px for f in Flavours.by_category('single-btag')]"
   ]
  },
  {
   "attachments": {},
   "cell_type": "markdown",
   "metadata": {},
   "source": [
    "And you can also access a flavour from it's definition"
   ]
  },
  {
   "cell_type": "code",
   "execution_count": 30,
   "metadata": {},
   "outputs": [
    {
     "data": {
      "text/plain": [
       "Flavour(name='bjets', label='$b$-jets', cuts=['HadronConeExclTruthLabelID == 5'], colour='tab:blue', category='single-btag')"
      ]
     },
     "execution_count": 30,
     "metadata": {},
     "output_type": "execute_result"
    }
   ],
   "source": [
    "Flavours.from_cuts([\"HadronConeExclTruthLabelID == 5\"])"
   ]
  },
  {
   "attachments": {},
   "cell_type": "markdown",
   "metadata": {},
   "source": [
    "### H5Reader\n",
    "\n",
    "The `H5Reader` class allows you to read (batches) of jets from one or more HDF5 files.\n",
    "\n",
    "- Variables are specified as `dict[str, list[str]]`.\n",
    "- By default the reader will randomly access chunks in the file, giving you a weakly shuffled set of jets.\n",
    "- By default the reader will load all variables for all available jets if `variables` and `num_jets` are not specified respectively.\n",
    "\n",
    "For example to load 300 jets using three batches of size 100:\n"
   ]
  },
  {
   "cell_type": "code",
   "execution_count": 31,
   "metadata": {},
   "outputs": [
    {
     "data": {
      "text/plain": [
       "300"
      ]
     },
     "execution_count": 31,
     "metadata": {},
     "output_type": "execute_result"
    }
   ],
   "source": [
    "from ftag.hdf5 import H5Reader\n",
    "\n",
    "reader = H5Reader(fname, batch_size=100)\n",
    "data = reader.load({\"jets\": [\"pt\", \"eta\"]}, num_jets=300)\n",
    "len(data[\"jets\"])"
   ]
  },
  {
   "attachments": {},
   "cell_type": "markdown",
   "metadata": {},
   "source": [
    "To transparently load jets across several files `fname` can also be a pattern including wildcards (`*`).\n",
    "Behind the scenes files are globbed and merged into a [virtual dataset](https://docs.h5py.org/en/stable/vds.html).\n",
    "So the following also works:"
   ]
  },
  {
   "cell_type": "code",
   "execution_count": 32,
   "metadata": {},
   "outputs": [],
   "source": [
    "from pathlib import Path\n",
    "\n",
    "reader = H5Reader(Path(fname).parent / \"*.h5\", batch_size=100)"
   ]
  },
  {
   "attachments": {},
   "cell_type": "markdown",
   "metadata": {},
   "source": [
    "If you have globbed several files, you can easily get the total number of jets across all files with"
   ]
  },
  {
   "cell_type": "code",
   "execution_count": 33,
   "metadata": {},
   "outputs": [
    {
     "data": {
      "text/plain": [
       "1000"
      ]
     },
     "execution_count": 33,
     "metadata": {},
     "output_type": "execute_result"
    }
   ],
   "source": [
    "reader.num_jets"
   ]
  },
  {
   "attachments": {},
   "cell_type": "markdown",
   "metadata": {},
   "source": [
    "You can also load tracks alongside jets (or by themselves) by specifying an additional entry in the `variables` dict:"
   ]
  },
  {
   "cell_type": "code",
   "execution_count": 34,
   "metadata": {},
   "outputs": [
    {
     "data": {
      "text/plain": [
       "dtype([('dphi', '<f4'), ('deta', '<f4')])"
      ]
     },
     "execution_count": 34,
     "metadata": {},
     "output_type": "execute_result"
    }
   ],
   "source": [
    "data = reader.load({\"jets\": [\"pt\", \"eta\"], \"tracks\": [\"deta\", \"dphi\"]}, num_jets=100)\n",
    "data[\"tracks\"].dtype"
   ]
  },
  {
   "attachments": {},
   "cell_type": "markdown",
   "metadata": {},
   "source": [
    "You can apply cuts to the jets as they are loaded. For example, to load 1000 jets which satisfy $p_T > 20$ GeV:"
   ]
  },
  {
   "cell_type": "code",
   "execution_count": 35,
   "metadata": {},
   "outputs": [],
   "source": [
    "data = reader.load({\"jets\": [\"pt\"]}, num_jets=100, cuts=Cuts.from_list([\"pt > 20e3\"]))\n",
    "assert data[\"jets\"][\"pt\"].min() > 20e3"
   ]
  },
  {
   "attachments": {},
   "cell_type": "markdown",
   "metadata": {},
   "source": [
    "Rather than return a single `dict` of arrays, the reader can also return a generator of batches.\n",
    "This is useful when you want to work with a large number of jets, but don't want to load them all into memory at once."
   ]
  },
  {
   "cell_type": "code",
   "execution_count": 36,
   "metadata": {},
   "outputs": [],
   "source": [
    "reader = H5Reader(fname, batch_size=100)\n",
    "stream = reader.stream({\"jets\": [\"pt\", \"eta\"]}, num_jets=300)\n",
    "for batch in stream:\n",
    "    jets = batch[\"jets\"]\n",
    "    # do processing on batch..."
   ]
  },
  {
   "attachments": {},
   "cell_type": "markdown",
   "metadata": {},
   "source": [
    "### H5Writer\n"
   ]
  },
  {
   "attachments": {},
   "cell_type": "markdown",
   "metadata": {},
   "source": [
    "The `H5Writer` class complents the reader class by allowing you to easily write batches of jetes to a target file."
   ]
  },
  {
   "cell_type": "code",
   "execution_count": 40,
   "metadata": {},
   "outputs": [],
   "source": [
    "from ftag.hdf5 import H5Writer\n",
    "from tempfile import NamedTemporaryFile\n",
    "\n",
    "out_fname = NamedTemporaryFile(suffix=\".h5\").name\n",
    "variables = {\"jets\": reader.dtypes['jets'].names}\n",
    "writer = H5Writer(\n",
    "    src=fname,\n",
    "    dst=out_fname,\n",
    "    variables=variables,\n",
    "    num_jets=1000,\n",
    "    shuffle=False,\n",
    ")"
   ]
  },
  {
   "cell_type": "markdown",
   "metadata": {},
   "source": [
    "To write jets in batches to the output file, you can use the `write` method:"
   ]
  },
  {
   "cell_type": "code",
   "execution_count": 38,
   "metadata": {},
   "outputs": [],
   "source": [
    "reader = H5Reader(fname, batch_size=100, shuffle=False)\n",
    "stream = reader.stream(variables, num_jets=1000)\n",
    "for batch in stream:\n",
    "    writer.write(batch)\n",
    "writer.close()"
   ]
  },
  {
   "attachments": {},
   "cell_type": "markdown",
   "metadata": {},
   "source": [
    "When you are finished you need to manually close the file using `H5Writer.close()`.\n",
    "The two files will now have the same contents (since we disabled shuffling):"
   ]
  },
  {
   "cell_type": "code",
   "execution_count": 39,
   "metadata": {},
   "outputs": [],
   "source": [
    "import h5py\n",
    "assert (h5py.File(fname)[\"jets\"][:] == h5py.File(out_fname)[\"jets\"][:]).all()"
   ]
  }
 ],
 "metadata": {
  "kernelspec": {
   "display_name": "jetpp",
   "language": "python",
   "name": "python3"
  },
  "language_info": {
   "codemirror_mode": {
    "name": "ipython",
    "version": 3
   },
   "file_extension": ".py",
   "mimetype": "text/x-python",
   "name": "python",
   "nbconvert_exporter": "python",
   "pygments_lexer": "ipython3",
   "version": "3.8.16"
  }
 },
 "nbformat": 4,
 "nbformat_minor": 2
}
