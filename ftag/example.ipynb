{
 "cells": [
  {
   "cell_type": "code",
   "execution_count": 1,
   "metadata": {},
   "outputs": [],
   "source": [
    "from __future__ import annotations\n",
    "\n",
    "%load_ext autoreload\n",
    "%autoreload 2"
   ]
  },
  {
   "attachments": {},
   "cell_type": "markdown",
   "metadata": {},
   "source": [
    "# Example Usage\n",
    "\n",
    "This notebooks demonstrates how to use this package.\n",
    "The main features are:\n",
    "\n",
    "- A `Cuts` class that can be used to select jets.\n",
    "- A set of `Flavours` defining common jet flavours.\n",
    "- An `H5Reader` class allowing for batched reading of jets across multiple files.\n",
    "- An `H5Writer` class allowing for batched writing of jets."
   ]
  },
  {
   "attachments": {},
   "cell_type": "markdown",
   "metadata": {},
   "source": [
    "We can start by getting some dummy data to work with."
   ]
  },
  {
   "cell_type": "code",
   "execution_count": 2,
   "metadata": {},
   "outputs": [],
   "source": [
    "from ftag import get_mock_file\n",
    "\n",
    "fname, f = get_mock_file()\n",
    "jets = f[\"jets\"]"
   ]
  },
  {
   "attachments": {},
   "cell_type": "markdown",
   "metadata": {},
   "source": [
    "### Cuts\n",
    "\n",
    "The `Cuts` class provides an interface for applying selections to structured nummpy arrays loaded from HDF5 files.\n",
    "To take a look, first import the `Cuts`:\n"
   ]
  },
  {
   "cell_type": "code",
   "execution_count": 3,
   "metadata": {},
   "outputs": [],
   "source": [
    "from ftag import Cuts"
   ]
  },
  {
   "attachments": {},
   "cell_type": "markdown",
   "metadata": {},
   "source": [
    "Instances of `Cuts` can be defined from lists of strings or tuples of strings and values. For example"
   ]
  },
  {
   "cell_type": "code",
   "execution_count": 4,
   "metadata": {},
   "outputs": [],
   "source": [
    "kinematic_cuts = Cuts.from_list([\"pt > 20e3\", \"abs_eta < 2.5\"])\n",
    "flavour_cuts = Cuts.from_list([(\"HadronConeExclTruthLabelID\", \"==\", 5)])"
   ]
  },
  {
   "attachments": {},
   "cell_type": "markdown",
   "metadata": {},
   "source": [
    "It's easy to combine cuts"
   ]
  },
  {
   "cell_type": "code",
   "execution_count": 5,
   "metadata": {},
   "outputs": [],
   "source": [
    "combined_cuts = kinematic_cuts + flavour_cuts"
   ]
  },
  {
   "attachments": {},
   "cell_type": "markdown",
   "metadata": {},
   "source": [
    "And then apply them to a a structured array with "
   ]
  },
  {
   "cell_type": "code",
   "execution_count": 6,
   "metadata": {},
   "outputs": [],
   "source": [
    "idx, selected_jets = combined_cuts(jets)"
   ]
  },
  {
   "attachments": {},
   "cell_type": "markdown",
   "metadata": {},
   "source": [
    "Both the selected indices and the selected jets are returned. The indices can be used to reapply the same selection to another array (e.g. tracks). The return values `idx` and `values` can also be accessed by name:"
   ]
  },
  {
   "cell_type": "code",
   "execution_count": 7,
   "metadata": {},
   "outputs": [],
   "source": [
    "idx = combined_cuts(jets).idx\n",
    "selected_jets = combined_cuts(jets).values"
   ]
  },
  {
   "attachments": {},
   "cell_type": "markdown",
   "metadata": {},
   "source": [
    "### Flavours\n",
    "\n",
    "A list of flavours is provided."
   ]
  },
  {
   "cell_type": "code",
   "execution_count": 8,
   "metadata": {},
   "outputs": [
    {
     "data": {
      "text/plain": [
       "Label(name='bjets', label='$b$-jets', cuts=['HadronConeExclTruthLabelID == 5'], colour='tab:blue', category='single-btag', _px=None)"
      ]
     },
     "execution_count": 8,
     "metadata": {},
     "output_type": "execute_result"
    }
   ],
   "source": [
    "from ftag import Flavours\n",
    "\n",
    "Flavours.bjets"
   ]
  },
  {
   "attachments": {},
   "cell_type": "markdown",
   "metadata": {},
   "source": [
    "`dict` like access is also supported:"
   ]
  },
  {
   "cell_type": "code",
   "execution_count": 9,
   "metadata": {},
   "outputs": [
    {
     "data": {
      "text/plain": [
       "Label(name='qcd', label='QCD', cuts=['R10TruthLabel_R22v1 == 10'], colour='#38761D', category='xbb', _px=None)"
      ]
     },
     "execution_count": 9,
     "metadata": {},
     "output_type": "execute_result"
    }
   ],
   "source": [
    "Flavours[\"qcd\"]"
   ]
  },
  {
   "attachments": {},
   "cell_type": "markdown",
   "metadata": {},
   "source": [
    "As you can see from the output, each flavour has a `name`, a `label` and `colour` (used for plotting), and a `Cuts` instance, which can be used to select jets of the given flavour.\n",
    "For example:"
   ]
  },
  {
   "cell_type": "code",
   "execution_count": 10,
   "metadata": {},
   "outputs": [],
   "source": [
    "bjets = Flavours.bjets.cuts(jets).values"
   ]
  },
  {
   "attachments": {},
   "cell_type": "markdown",
   "metadata": {},
   "source": [
    "Each flavour is also assigned to a category, which can be used to group flavours together. For example:"
   ]
  },
  {
   "cell_type": "code",
   "execution_count": 11,
   "metadata": {},
   "outputs": [
    {
     "data": {
      "text/plain": [
       "['single-btag',\n",
       " 'single-btag-extended',\n",
       " 'single-btag-ghost',\n",
       " 'xbb',\n",
       " 'xbb-extended',\n",
       " 'partonic',\n",
       " 'lepton-decay',\n",
       " 'PDGID',\n",
       " 'isolation',\n",
       " 'trigger-xbb']"
      ]
     },
     "execution_count": 11,
     "metadata": {},
     "output_type": "execute_result"
    }
   ],
   "source": [
    "Flavours.categories"
   ]
  },
  {
   "cell_type": "code",
   "execution_count": 12,
   "metadata": {},
   "outputs": [
    {
     "data": {
      "text/plain": [
       "LabelContainer(hbb, hcc, top, qcd, qcdbb, qcdnonbb, qcdbx, qcdcx, qcdll, htauel, htaumu, htauhad)"
      ]
     },
     "execution_count": 12,
     "metadata": {},
     "output_type": "execute_result"
    }
   ],
   "source": [
    "Flavours.by_category(\"xbb\")"
   ]
  },
  {
   "attachments": {},
   "cell_type": "markdown",
   "metadata": {},
   "source": [
    "Probability names are also accessible using `.px`:"
   ]
  },
  {
   "cell_type": "code",
   "execution_count": 13,
   "metadata": {},
   "outputs": [
    {
     "data": {
      "text/plain": [
       "['pb', 'pc', 'pu', 'ptau']"
      ]
     },
     "execution_count": 13,
     "metadata": {},
     "output_type": "execute_result"
    }
   ],
   "source": [
    "[f.px for f in Flavours.by_category(\"single-btag\")]"
   ]
  },
  {
   "attachments": {},
   "cell_type": "markdown",
   "metadata": {},
   "source": [
    "And you can also access a flavour from it's definition"
   ]
  },
  {
   "cell_type": "code",
   "execution_count": 14,
   "metadata": {},
   "outputs": [
    {
     "data": {
      "text/plain": [
       "Label(name='bjets', label='$b$-jets', cuts=['HadronConeExclTruthLabelID == 5'], colour='tab:blue', category='single-btag', _px=None)"
      ]
     },
     "execution_count": 14,
     "metadata": {},
     "output_type": "execute_result"
    }
   ],
   "source": [
    "Flavours.from_cuts([\"HadronConeExclTruthLabelID == 5\"])"
   ]
  },
  {
   "attachments": {},
   "cell_type": "markdown",
   "metadata": {},
   "source": [
    "### H5Reader\n",
    "\n",
    "The `H5Reader` class allows you to read (batches) of jets from one or more HDF5 files.\n",
    "\n",
    "- Variables are specified as `dict[str, list[str]]`.\n",
    "- By default the reader will randomly access chunks in the file, giving you a weakly shuffled set of jets.\n",
    "- By default the reader will load all variables for all available jets if `variables` and `num_jets` are not specified respectively.\n",
    "\n",
    "For example to load 300 jets using three batches of size 100:\n"
   ]
  },
  {
   "cell_type": "code",
   "execution_count": 15,
   "metadata": {},
   "outputs": [
    {
     "data": {
      "text/plain": [
       "300"
      ]
     },
     "execution_count": 15,
     "metadata": {},
     "output_type": "execute_result"
    }
   ],
   "source": [
    "from ftag.hdf5 import H5Reader\n",
    "\n",
    "reader = H5Reader(fname, batch_size=100)\n",
    "data = reader.load({\"jets\": [\"pt\", \"eta\"]}, num_jets=300)\n",
    "len(data[\"jets\"])"
   ]
  },
  {
   "attachments": {},
   "cell_type": "markdown",
   "metadata": {},
   "source": [
    "To transparently load jets across several files `fname` can also be a pattern including wildcards (`*`).\n",
    "Behind the scenes files are globbed and merged into a [virtual dataset](https://docs.h5py.org/en/stable/vds.html).\n",
    "So the following also works:"
   ]
  },
  {
   "cell_type": "code",
   "execution_count": 16,
   "metadata": {},
   "outputs": [],
   "source": [
    "from pathlib import Path\n",
    "\n",
    "reader = H5Reader(Path(fname).parent / \"*.h5\", batch_size=100)"
   ]
  },
  {
   "attachments": {},
   "cell_type": "markdown",
   "metadata": {},
   "source": [
    "If you have globbed several files, you can easily get the total number of jets across all files with"
   ]
  },
  {
   "cell_type": "code",
   "execution_count": 17,
   "metadata": {},
   "outputs": [
    {
     "data": {
      "text/plain": [
       "1000"
      ]
     },
     "execution_count": 17,
     "metadata": {},
     "output_type": "execute_result"
    }
   ],
   "source": [
    "reader.num_jets"
   ]
  },
  {
   "attachments": {},
   "cell_type": "markdown",
   "metadata": {},
   "source": [
    "You can also load tracks alongside jets (or by themselves) by specifying an additional entry in the `variables` dict:"
   ]
  },
  {
   "cell_type": "code",
   "execution_count": 18,
   "metadata": {},
   "outputs": [
    {
     "data": {
      "text/plain": [
       "dtype([('dphi', '<f4'), ('deta', '<f4')])"
      ]
     },
     "execution_count": 18,
     "metadata": {},
     "output_type": "execute_result"
    }
   ],
   "source": [
    "data = reader.load({\"jets\": [\"pt\", \"eta\"], \"tracks\": [\"deta\", \"dphi\"]}, num_jets=100)\n",
    "data[\"tracks\"].dtype"
   ]
  },
  {
   "attachments": {},
   "cell_type": "markdown",
   "metadata": {},
   "source": [
    "You can apply cuts to the jets as they are loaded. For example, to load 1000 jets which satisfy $p_T > 20$ GeV:"
   ]
  },
  {
   "cell_type": "code",
   "execution_count": 19,
   "metadata": {},
   "outputs": [],
   "source": [
    "data = reader.load({\"jets\": [\"pt\"]}, num_jets=100, cuts=Cuts.from_list([\"pt > 20e3\"]))\n",
    "assert data[\"jets\"][\"pt\"].min() > 20e3"
   ]
  },
  {
   "attachments": {},
   "cell_type": "markdown",
   "metadata": {},
   "source": [
    "Rather than return a single `dict` of arrays, the reader can also return a generator of batches.\n",
    "This is useful when you want to work with a large number of jets, but don't want to load them all into memory at once."
   ]
  },
  {
   "cell_type": "code",
   "execution_count": 20,
   "metadata": {},
   "outputs": [],
   "source": [
    "reader = H5Reader(fname, batch_size=100)\n",
    "stream = reader.stream({\"jets\": [\"pt\", \"eta\"]}, num_jets=300)\n",
    "for batch in stream:\n",
    "    jets = batch[\"jets\"]\n",
    "    # do processing on batch..."
   ]
  },
  {
   "attachments": {},
   "cell_type": "markdown",
   "metadata": {},
   "source": [
    "### H5Writer\n"
   ]
  },
  {
   "attachments": {},
   "cell_type": "markdown",
   "metadata": {},
   "source": [
    "The `H5Writer` class complents the reader class by allowing you to easily write batches of jets to a target file."
   ]
  },
  {
   "cell_type": "code",
   "execution_count": 21,
   "metadata": {},
   "outputs": [],
   "source": [
    "from tempfile import NamedTemporaryFile\n",
    "\n",
    "from ftag.hdf5 import H5Writer\n",
    "\n",
    "reader = H5Reader(fname, batch_size=100, shuffle=False)\n",
    "variables = {\"jets\": None}  # \"None\" means \"all variables\"\n",
    "out_fname = NamedTemporaryFile(suffix=\".h5\").name\n",
    "writer = H5Writer(\n",
    "    dst=out_fname,\n",
    "    dtypes=reader.dtypes(variables),\n",
    "    shapes=reader.shapes(1000),\n",
    "    shuffle=False,\n",
    ")"
   ]
  },
  {
   "cell_type": "markdown",
   "metadata": {},
   "source": [
    "To write jets in batches to the output file, you can use the `write` method:"
   ]
  },
  {
   "cell_type": "code",
   "execution_count": 22,
   "metadata": {},
   "outputs": [],
   "source": [
    "for batch in reader.stream(variables=variables, num_jets=1000):\n",
    "    writer.write(batch)\n",
    "writer.close()"
   ]
  },
  {
   "attachments": {},
   "cell_type": "markdown",
   "metadata": {},
   "source": [
    "When you are finished you need to manually close the file using `H5Writer.close()`.\n",
    "The two files will now have the same contents (since we disabled shuffling):"
   ]
  },
  {
   "cell_type": "code",
   "execution_count": 23,
   "metadata": {},
   "outputs": [],
   "source": [
    "import h5py\n",
    "\n",
    "assert (h5py.File(fname)[\"jets\"][:] == h5py.File(out_fname)[\"jets\"][:]).all()"
   ]
  },
  {
   "cell_type": "markdown",
   "metadata": {},
   "source": [
    "### Data Transform\n",
    "\n",
    "The `transform.py` module allows for data to be transformed as it is loaded.\n",
    "Three operations are supported:\n",
    "\n",
    "- Renaming variables\n",
    "- Mapping integer values\n",
    "- Functional transforms on floating point values\n",
    "\n",
    "See below for an example. First, we can make a transform config (which in this case just log scales the jet pt)."
   ]
  },
  {
   "cell_type": "code",
   "execution_count": 24,
   "metadata": {},
   "outputs": [],
   "source": [
    "from ftag.transform import Transform\n",
    "\n",
    "transform_config = {\n",
    "    \"floats_map\": {\n",
    "        \"jets\": {\n",
    "            \"pt\": \"log\",\n",
    "        },\n",
    "    },\n",
    "}\n",
    "\n",
    "transform = Transform(**transform_config)"
   ]
  },
  {
   "cell_type": "markdown",
   "metadata": {},
   "source": [
    "This object can be passed to the `H5Reader` constructor.\n",
    "The resulting object will return transformed values."
   ]
  },
  {
   "cell_type": "code",
   "execution_count": 25,
   "metadata": {},
   "outputs": [
    {
     "data": {
      "text/plain": [
       "(np.float32(8.156475), np.float32(12.896797))"
      ]
     },
     "execution_count": 25,
     "metadata": {},
     "output_type": "execute_result"
    }
   ],
   "source": [
    "reader = H5Reader(fname, batch_size=100, transform=transform)\n",
    "data = reader.load({\"jets\": [\"pt\", \"eta\"]}, num_jets=300)\n",
    "data[\"jets\"][\"pt\"].min(), data[\"jets\"][\"pt\"].max()"
   ]
  },
  {
   "cell_type": "markdown",
   "metadata": {},
   "source": [
    "## Adding columns to an h5 file.\n",
    "\n",
    "Quite often we wish to make minor changes to h5 files, e.g. adding a single new jet or track variable. A helper function, `h5_add_column` is available to aid here.\n",
    "The function requires an input file, and output file, and a function (or list of functions) which return a dictionary detailing what needs to be appended. An example is included below"
   ]
  },
  {
   "cell_type": "code",
   "execution_count": null,
   "metadata": {},
   "outputs": [
    {
     "name": "stdout",
     "output_type": "stream",
     "text": [
      "Input has 'number_of_tracks'?  False\n",
      "Output has 'number_of_tracks'?  False\n"
     ]
    }
   ],
   "source": [
    "import tempfile\n",
    "\n",
    "from ftag.hdf5 import h5_add_column\n",
    "\n",
    "\n",
    "def add_number_of_tracks(batch: dict) -> dict:\n",
    "    \"\"\"Add the number of tracks to the jets dict.\n",
    "\n",
    "    Parameters\n",
    "    ----------\n",
    "    batch : dict\n",
    "        Loaded batch of jets\n",
    "\n",
    "    Returns\n",
    "    -------\n",
    "    dict\n",
    "        dict with the number of tracks in the jets dict\n",
    "    \"\"\"\n",
    "    num_tracks = batch[\"tracks\"][\"valid\"].sum(axis=1)\n",
    "    return {\n",
    "        \"jets\": {  # Add to the 'jets' group\n",
    "            \"number_of_tracks\": num_tracks,  # ... a new variable called 'number_of_tracks'\n",
    "        }\n",
    "    }\n",
    "\n",
    "\n",
    "dummy_file = h5py.File(fname, \"r\")\n",
    "# Should be False\n",
    "print(\"Input has 'number_of_tracks'? \", \"number_of_tracks\" in dummy_file[\"jets\"].dtype.names)\n",
    "\n",
    "# Create a temporary file path for output\n",
    "with tempfile.TemporaryDirectory() as tmpdir:\n",
    "    output = Path(tmpdir) / \"output.h5\"\n",
    "    h5_add_column(\n",
    "        fname,\n",
    "        output,\n",
    "        add_number_of_tracks,\n",
    "        num_jets=1000,\n",
    "    )\n",
    "    # Check if the new column was added\n",
    "    with h5py.File(output, \"r\") as f:\n",
    "        # Should be True\n",
    "        print(\n",
    "            \"Output has 'number_of_tracks'? \", \"number_of_tracks\" in dummy_file[\"jets\"].dtype.names\n",
    "        )"
   ]
  },
  {
   "cell_type": "markdown",
   "metadata": {},
   "source": [
    "You ccan also use the above as a script from the terminal\n",
    "\n",
    "```bash\n",
    "h5addcol --input [input file] --append_function /a/path/to/a/python/script.py:a_function1 /a/differentpath/to/a/python/script.py:a_function2\n",
    "```\n",
    "\n",
    "Which will then `a_function1` from `/a/path/to/a/python/script.py` and  `a_function2` from `/a/differentpath/to/a/python/script.py`"
   ]
  }
 ],
 "metadata": {
  "kernelspec": {
   "display_name": "atlas-ftag-tools",
   "language": "python",
   "name": "python3"
  },
  "language_info": {
   "codemirror_mode": {
    "name": "ipython",
    "version": 3
   },
   "file_extension": ".py",
   "mimetype": "text/x-python",
   "name": "python",
   "nbconvert_exporter": "python",
   "pygments_lexer": "ipython3",
   "version": "3.10.16"
  }
 },
 "nbformat": 4,
 "nbformat_minor": 2
}
